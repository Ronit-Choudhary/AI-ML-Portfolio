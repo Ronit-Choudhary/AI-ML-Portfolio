{
 "cells": [
  {
   "cell_type": "code",
   "execution_count": 18,
   "metadata": {},
   "outputs": [
    {
     "name": "stdout",
     "output_type": "stream",
     "text": [
      "   ID                               TITLE       GENRE  \\\n",
      "0   1       Oscar et la dame rose (2009)       drama    \n",
      "1   2                       Cupid (1997)    thriller    \n",
      "2   3   Young, Wild and Wonderful (1980)       adult    \n",
      "3   4              The Secret Sin (1915)       drama    \n",
      "4   5             The Unrecovered (2007)       drama    \n",
      "\n",
      "                                         DESCRIPTION  \n",
      "0   Listening in to a conversation between his do...  \n",
      "1   A brother and sister with a past incestuous r...  \n",
      "2   As the bus empties the students for their fie...  \n",
      "3   To help their unemployed father make ends mee...  \n",
      "4   The film's title refers not only to the un-re...  \n",
      "   ID                          TITLE  \\\n",
      "0   1          Edgar's Lunch (1998)    \n",
      "1   2      La guerra de papá (1977)    \n",
      "2   3   Off the Beaten Track (2010)    \n",
      "3   4        Meu Amigo Hindu (2015)    \n",
      "4   5             Er nu zhai (1955)    \n",
      "\n",
      "                                         DESCRIPTION  \n",
      "0   L.R. Brane loves his life - his car, his apar...  \n",
      "1   Spain, March 1964: Quico is a very naughty ch...  \n",
      "2   One year in the life of Albin and his family ...  \n",
      "3   His father has died, he hasn't spoken with hi...  \n",
      "4   Before he was known internationally as a mart...  \n"
     ]
    }
   ],
   "source": [
    "import pandas as pd\n",
    "\n",
    "# Define a function to load the dataset\n",
    "def load_train_data(file_path):\n",
    "    data = pd.read_csv(file_path, delimiter=':::', engine='python', header=None, names=['ID', 'TITLE', 'GENRE', 'DESCRIPTION'])\n",
    "    return data\n",
    "\n",
    "def load_test_data(file_path):\n",
    "    data = pd.read_csv(file_path, delimiter=':::', engine='python', header=None, names=['ID', 'TITLE','DESCRIPTION'])\n",
    "    return data\n",
    "\n",
    "# Load train and test data\n",
    "train_data = load_train_data('train_data.txt')  # Update the path to your actual train data file\n",
    "test_data = load_test_data('test_data.txt')    # Update the path to your actual test data file\n",
    "\n",
    "# Display the first few rows\n",
    "print(train_data.head())\n",
    "print(test_data.head())"
   ]
  },
  {
   "cell_type": "code",
   "execution_count": 19,
   "metadata": {},
   "outputs": [],
   "source": [
    "import re\n",
    "from sklearn.feature_extraction.text import TfidfVectorizer\n",
    "\n",
    "# Function to clean text\n",
    "def clean_text(text):\n",
    "    text = text.lower()  # Convert to lowercase\n",
    "    text = re.sub(r'\\s+', ' ', text)  # Remove extra whitespace\n",
    "    text = re.sub(r'[^\\w\\s]', '', text)  # Remove punctuation\n",
    "    return text\n",
    "\n",
    "# Apply cleaning to descriptions\n",
    "train_data['DESCRIPTION'] = train_data['DESCRIPTION'].apply(clean_text)\n",
    "test_data['DESCRIPTION'] = test_data['DESCRIPTION'].apply(clean_text)"
   ]
  },
  {
   "cell_type": "code",
   "execution_count": 20,
   "metadata": {},
   "outputs": [],
   "source": [
    "# Initialize TF-IDF Vectorizer\n",
    "tfidf_vectorizer = TfidfVectorizer(stop_words='english', max_features=5000)\n",
    "\n",
    "# Fit and transform the train data description\n",
    "X_train = tfidf_vectorizer.fit_transform(train_data['DESCRIPTION'])\n",
    "\n",
    "# Transform the test data description\n",
    "X_test = tfidf_vectorizer.transform(test_data['DESCRIPTION'])"
   ]
  },
  {
   "cell_type": "code",
   "execution_count": 21,
   "metadata": {},
   "outputs": [],
   "source": [
    "# Extract labels\n",
    "y_train = train_data['GENRE']"
   ]
  },
  {
   "cell_type": "code",
   "execution_count": 22,
   "metadata": {},
   "outputs": [
    {
     "name": "stdout",
     "output_type": "stream",
     "text": [
      "Naive Bayes trained\n",
      "Logistic Regression trained\n",
      "Support Vector Machine trained\n"
     ]
    }
   ],
   "source": [
    "from sklearn.naive_bayes import MultinomialNB\n",
    "from sklearn.linear_model import LogisticRegression\n",
    "from sklearn.svm import SVC\n",
    "from sklearn.pipeline import Pipeline\n",
    "from sklearn.preprocessing import LabelEncoder\n",
    "\n",
    "# Encode labels\n",
    "label_encoder = LabelEncoder()\n",
    "y_train_encoded = label_encoder.fit_transform(y_train)\n",
    "\n",
    "# Initialize models\n",
    "models = {\n",
    "    'Naive Bayes': MultinomialNB(),\n",
    "    'Logistic Regression': LogisticRegression(max_iter=1000),\n",
    "    'Support Vector Machine': SVC()\n",
    "}\n",
    "\n",
    "# Train models\n",
    "for name, model in models.items():\n",
    "    model.fit(X_train, y_train_encoded)\n",
    "    print(f'{name} trained')"
   ]
  },
  {
   "cell_type": "code",
   "execution_count": 23,
   "metadata": {},
   "outputs": [
    {
     "name": "stdout",
     "output_type": "stream",
     "text": [
      "Naive Bayes Accuracy: 0.5208\n",
      "Logistic Regression Accuracy: 0.5774\n"
     ]
    }
   ],
   "source": [
    "from sklearn.model_selection import cross_val_score\n",
    "\n",
    "for name, model in models.items():\n",
    "    scores = cross_val_score(model, X_train, y_train_encoded, cv=5, scoring='accuracy')\n",
    "    print(f'{name} Accuracy: {scores.mean():.4f}')"
   ]
  }
 ],
 "metadata": {
  "kernelspec": {
   "display_name": "Python 3",
   "language": "python",
   "name": "python3"
  },
  "language_info": {
   "codemirror_mode": {
    "name": "ipython",
    "version": 3
   },
   "file_extension": ".py",
   "mimetype": "text/x-python",
   "name": "python",
   "nbconvert_exporter": "python",
   "pygments_lexer": "ipython3",
   "version": "3.11.4"
  }
 },
 "nbformat": 4,
 "nbformat_minor": 2
}
